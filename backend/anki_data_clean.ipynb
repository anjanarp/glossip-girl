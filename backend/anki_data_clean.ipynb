{
    "cells": [
        {
            "cell_type": "code",
            "execution_count": 36,
            "id": "e9b1a426",
            "metadata": {},
            "outputs": [
                {
                    "name": "stdout",
                    "output_type": "stream",
                    "text": [
                        "                 Front                                               Back\n",
                        "0        ben- or bene-  good  examples:  beneficial = helpfulbenevolen...\n",
                        "1        mal- or male-  bad  examples malicious = intending hamrmalevo...\n",
                        "2           anthropic-  having to do with humankind  examples:  anthro...\n",
                        "3       cise- or cide-  strike, cut, or kill  examples: incision = sur...\n",
                        "4        gen- or gene-  origin, kind, or type  examples: generate = to...\n",
                        "5    morph- or morpho-  form or shape  examples: morphology = study of...\n",
                        "6        vol- or voli-  will or intention  examples: voluntary = by ch...\n",
                        "7                ante-  before  examples: antecedent = something befor...\n",
                        "8                anti-  against  examples: antidote = remedy against p...\n",
                        "9              circum-  moving around something examples: circumnaviga...\n",
                        "10              hyper-  over, above  A Greek root that means excessive...\n",
                        "11              trans-  across  examples: transport = carry acrosstran...\n",
                        "12               -able  for adjectives indicating capability  examples...\n",
                        "13                -ism  for nouns denoting a doctrine or belief  examp...\n",
                        "14               -less  for adjectives indicating the absence of somet...\n",
                        "15                 -ly  to form adverbs from adjectives  examples: qui...\n",
                        "16              a-/an-  not, without  examples: amoral = lacking moral...\n",
                        "17                 ab-  away from, out, or off  gives a sense of movem...\n",
                        "18                 ad-  move towards  examples: advocate = to speak in...\n",
                        "19       co-/com-/con-  with, together  examples: collaborate = to wor...\n",
                        "20                 de-  down, away, reverse, completely  examples: dev...\n",
                        "21       dis-/di-/dif-  apart, not  examples: dissonance = lack of har...\n",
                        "22             en-/em-  in, into  examples: empower = to give power to...\n",
                        "23              inter-  between  examples: interject = to insert betwe...\n",
                        "24             in-/im-  not/into  examples: incongruent = not matching...\n",
                        "25              micro-  small  examples: microscope = tool for viewing...\n",
                        "26               mono-  one  examples: monologue = speech by one perso...\n",
                        "27              multi-  many  examples: multifaceted = having many sid...\n",
                        "28                neo-  new  examples: neulogism = newly coined wordne...\n",
                        "29               post-  after  examples: posthumous = after deathposte...\n",
                        "30                pre-  before  examples: precedent = an earlier examp...\n",
                        "31                pro-  forward, for  examples: propel = to push forwa...\n",
                        "32                 re-  again, back  examples: revisit = to visit agai...\n",
                        "33                sub-  under  Latin  examples: subjugate = to bring u...\n",
                        "34       super-/supra-  above, beyond  examples: superflous = unecessa...\n",
                        "35           syn-/sym-  together  examples: synchronize = to act at th...\n",
                        "36              ultra-  beyond, extreme  examples: ultraconservative =...\n",
                        "37                cred  believe  examples: credible = believableincred...\n",
                        "38                dict  speak  examples: dictate = to speak with autho...\n",
                        "39            duc/duct  lead  examples: induce = to lead or causecondu...\n",
                        "40         fac/fic/fec  make, do  examples: facilitate = to make easie...\n",
                        "41                -fer  carry, bear  examples: tranfer = to carry acro...\n",
                        "42            flu/flux  flow  examples: fluctuate = to ise and fall li...\n",
                        "43          graph/gram  write   examples: graphic = visual or written ...\n",
                        "44         loq/log/loc  speak  examples: eloquent = fluent or persuasi...\n",
                        "45              man(u)  hand  examples: manual = done by handmanipulat...\n",
                        "46           mis-/mit-  send  examples: transmit = to send acrossdismi...\n",
                        "47                path  dealing, disease  examples: empathy = feeling ...\n",
                        "48                phil  love  examples: philosophy = love of wisdombib...\n",
                        "49                port  carry  examples: portable = able to be carried...\n",
                        "50        scrib/script  write  examples: inscription = writing engrave...\n",
                        "51           spec/spic  see, look  examples: inspect = to look closely...\n",
                        "52           tang/tact  touch  examples: tangible = able to be touched...\n",
                        "53             vid/vis  see  examples: visual = related to seeingevide...\n",
                        "54             voc/vok  call, voice  examples: invoke = to call uponeq...\n",
                        "55         -acy/-acity  state or quality  examples: tenacity = quality...\n",
                        "56                 -al  adjective-forming  examples: natural = relatin...\n",
                        "57         -ance/-ence  state or quality  examples: dominance = state ...\n",
                        "58           -ant/-ent  having the quality of   examples: defiant = bo...\n",
                        "59   -eer/-ist/-er/-or  one who does  examples: engineer = one wo buil...\n",
                        "60            -fy/-ify  to make  examples: solidify = to make solidbea...\n",
                        "61         -ic / -ical  relating to   examples: poetic = related to po...\n",
                        "62    -ion/-tion/-sion  act or process  examples: creation = act of ma...\n",
                        "63          -ous/-ious  full of  examples: spacious = full of spacecur...\n",
                        "64         -ward/-wise  direction or manner  examples: backward = in r...\n",
                        "65                 ex-                          out, from   exit, exclude\n",
                        "66          -ig/ag/act                          to drive, do, demand, act\n",
                        "67               -ride                     to laugh  Latin root is ridere\n",
                        "68               meta-                             beyond, across, change\n",
                        "69              -phor-                                     to carry, bear\n",
                        "70               -ical             suffix, adjective-forming  relating to\n",
                        "71               furt-                      theft, stealing  Latin furtum\n",
                        "72                -ive  suffix, adjective-forming  having the quality ...\n",
                        "73               -bole                                   to throw or cast\n",
                        "74              -phant                                  to show or reveal\n",
                        "75        -und/-undare                   to surge like a wave  Latin unda\n",
                        "76               peri-         around/near something, often enveloping it\n",
                        "77            -patetic                                            to walk\n",
                        "78                syn-                                     together, with\n",
                        "79                -tax                  arrangement or order  Greek taxis\n",
                        "80                ped-                             foot  Latin pes, pedis\n",
                        "81            -estrian  going on foot, also used to mean plain, unador...\n",
                        "82              super-                above, over (reflects status, rank)\n",
                        "83               -sede                               to sit  Latin sedere\n",
                        "84               -cede                         to go, yield  Latin cedere\n",
                        "85                ana-                      against, back, up  Greek root\n",
                        "86              -thema                               to place, put  Greek\n",
                        "87                 en-                                          in  Greek\n",
                        "88                -ium                        turns something into a noun\n",
                        "89               torp-   to be numb, sluggish, or inactive  Latin torpere\n",
                        "90                 -or              state or condition  Latin noun suffix\n",
                        "91              facet-    witty, elegant, clever in speech  Latin facetus\n",
                        "92                -ose               full of or inclined to  Latin suffix\n",
                        "93               -ious           having the quality of   adjective suffix\n",
                        "94              arriv-                          to arrive  French arriver\n",
                        "95               -iste    A person who is associated with   French suffix\n",
                        "96              intim-  Latin intimare = to make known  Latin intimus ...\n",
                        "97              -ation                  the act or result of  noun suffix\n",
                        "98              poena-                         penalty, punsihment  Latin\n",
                        "99                 ap-          to, toward  Latin prefix (variand of ad-)\n",
                        "100             posit-                             to place  Latin ponere\n",
                        "101             vanqu-        to conquer, overcome, defeat  Latin vincere\n",
                        "102               -ish                                verb-forming suffix\n",
                        "103               pro-                                 in favor of  Latin\n",
                        "104              -pit-                  to seek, to aim for  Latin petere\n",
                        "105               aus-                                   bird  Latin avis\n",
                        "106             -spic-                    to look, observe  Latin specere\n",
                        "107                ob-                              against  Latin prefix\n",
                        "108      stin-, -stare                              to stand  Latin stāre\n",
                        "109               -ate                           adjective-forming suffix\n",
                        "110             simul-                 at the same time (together)  latin\n",
                        "111           -taneous                      based on tempus = time  Latin\n",
                        "112             gress-                                 (root) to step, go\n",
                        "113               -ion                   act, state, or result of  suffix\n",
                        "114       altr-/alter-                                              other\n",
                        "115              tant-                    so much, of such size or amount\n",
                        "116            -amount                          to go up to, to amount to\n",
                        "117               sur-                                               over\n",
                        "118               para                                              above\n",
                        "119             -prise  to size, grasp  from prenedere in Latin   surp...\n",
                        "120               dis-                                   apart, away, not\n",
                        "121             sonare                              to sound  Latin sonus\n",
                        "122              -ance                                state or quality of\n",
                        "123             fract-                                              break\n",
                        "124             fidel-                                    faithful, loyal\n",
                        "125               -ity           suffic forming nouns of quality or state\n",
                        "126               con-                                     with, together\n",
                        "127           princip-                       first, beginning, foundation\n",
                        "128               -led                              having the quality of\n",
                        "129          vin/vind-  to claim, avenge, or free from burden or imped...\n",
                        "130              -cate              to make or cause  verb-forming suffix\n"
                    ]
                }
            ],
            "source": [
                "import pandas as pd\n",
                "\n",
                "# Path to your exported .txt root deck\n",
                "txt_path = \"/Users/anjanapro/Desktop/GRE-roots-text.txt\"\n",
                "\n",
                "# Read lines, skip comment lines\n",
                "with open(txt_path, 'r', encoding='utf-8') as f:\n",
                "    lines = [line.strip() for line in f if line.strip() and not line.startswith(\"#\")]\n",
                "\n",
                "# Parse tab-separated front and back\n",
                "parsed = []\n",
                "for line in lines:\n",
                "    if '\\t' in line:\n",
                "        front, back = line.split('\\t', 1)\n",
                "        parsed.append((front.strip(), back.strip()))\n",
                "    else:\n",
                "        print(f\"Skipping malformed line: {line}\")\n",
                "\n",
                "# Create DataFrame\n",
                "df = pd.DataFrame(parsed, columns=[\"Front\", \"Back\"])\n",
                "\n",
                "# Display full DataFrame\n",
                "pd.set_option(\"display.max_rows\", None)  # show all rows\n",
                "print(df)\n"
            ]
        },
        {
            "cell_type": "code",
            "execution_count": 37,
            "id": "b4628a63",
            "metadata": {},
            "outputs": [
                {
                    "data": {
                        "application/vnd.jupyter.widget-view+json": {
                            "model_id": "9f69d5a89118403194280c71f5369ba5",
                            "version_major": 2,
                            "version_minor": 0
                        },
                        "text/plain": [
                            "modules.json:   0%|          | 0.00/349 [00:00<?, ?B/s]"
                        ]
                    },
                    "metadata": {},
                    "output_type": "display_data"
                },
                {
                    "data": {
                        "application/vnd.jupyter.widget-view+json": {
                            "model_id": "9e6a0bd633b94058bae9f9947a3a6052",
                            "version_major": 2,
                            "version_minor": 0
                        },
                        "text/plain": [
                            "config_sentence_transformers.json:   0%|          | 0.00/116 [00:00<?, ?B/s]"
                        ]
                    },
                    "metadata": {},
                    "output_type": "display_data"
                },
                {
                    "data": {
                        "application/vnd.jupyter.widget-view+json": {
                            "model_id": "bb4e1706c715459ca2130bf3c1c08a03",
                            "version_major": 2,
                            "version_minor": 0
                        },
                        "text/plain": [
                            "README.md:   0%|          | 0.00/10.5k [00:00<?, ?B/s]"
                        ]
                    },
                    "metadata": {},
                    "output_type": "display_data"
                },
                {
                    "data": {
                        "application/vnd.jupyter.widget-view+json": {
                            "model_id": "091f29ff78134f7caad45e2ea674bcaa",
                            "version_major": 2,
                            "version_minor": 0
                        },
                        "text/plain": [
                            "sentence_bert_config.json:   0%|          | 0.00/53.0 [00:00<?, ?B/s]"
                        ]
                    },
                    "metadata": {},
                    "output_type": "display_data"
                },
                {
                    "data": {
                        "application/vnd.jupyter.widget-view+json": {
                            "model_id": "1d9879a6e152491dbe4bfb68fcba8477",
                            "version_major": 2,
                            "version_minor": 0
                        },
                        "text/plain": [
                            "config.json:   0%|          | 0.00/612 [00:00<?, ?B/s]"
                        ]
                    },
                    "metadata": {},
                    "output_type": "display_data"
                },
                {
                    "data": {
                        "application/vnd.jupyter.widget-view+json": {
                            "model_id": "e14efcec44e74aabb2c9563e654c8a4e",
                            "version_major": 2,
                            "version_minor": 0
                        },
                        "text/plain": [
                            "model.safetensors:   0%|          | 0.00/90.9M [00:00<?, ?B/s]"
                        ]
                    },
                    "metadata": {},
                    "output_type": "display_data"
                },
                {
                    "data": {
                        "application/vnd.jupyter.widget-view+json": {
                            "model_id": "8e0bdcbbe44243f98d11edc66bc1c165",
                            "version_major": 2,
                            "version_minor": 0
                        },
                        "text/plain": [
                            "tokenizer_config.json:   0%|          | 0.00/350 [00:00<?, ?B/s]"
                        ]
                    },
                    "metadata": {},
                    "output_type": "display_data"
                },
                {
                    "data": {
                        "application/vnd.jupyter.widget-view+json": {
                            "model_id": "74a747505d2c446c90c45f267ba41ce2",
                            "version_major": 2,
                            "version_minor": 0
                        },
                        "text/plain": [
                            "vocab.txt:   0%|          | 0.00/232k [00:00<?, ?B/s]"
                        ]
                    },
                    "metadata": {},
                    "output_type": "display_data"
                },
                {
                    "data": {
                        "application/vnd.jupyter.widget-view+json": {
                            "model_id": "45915d48e8b14759b77a77cdf504549a",
                            "version_major": 2,
                            "version_minor": 0
                        },
                        "text/plain": [
                            "tokenizer.json:   0%|          | 0.00/466k [00:00<?, ?B/s]"
                        ]
                    },
                    "metadata": {},
                    "output_type": "display_data"
                },
                {
                    "data": {
                        "application/vnd.jupyter.widget-view+json": {
                            "model_id": "c3f2576039fe401a874425001b3de38f",
                            "version_major": 2,
                            "version_minor": 0
                        },
                        "text/plain": [
                            "special_tokens_map.json:   0%|          | 0.00/112 [00:00<?, ?B/s]"
                        ]
                    },
                    "metadata": {},
                    "output_type": "display_data"
                },
                {
                    "data": {
                        "application/vnd.jupyter.widget-view+json": {
                            "model_id": "c94a22a289314c96b68276566316dcb8",
                            "version_major": 2,
                            "version_minor": 0
                        },
                        "text/plain": [
                            "config.json:   0%|          | 0.00/190 [00:00<?, ?B/s]"
                        ]
                    },
                    "metadata": {},
                    "output_type": "display_data"
                },
                {
                    "data": {
                        "application/vnd.jupyter.widget-view+json": {
                            "model_id": "27d62e8e03484f53bb9a8a44960c1d74",
                            "version_major": 2,
                            "version_minor": 0
                        },
                        "text/plain": [
                            "Batches:   0%|          | 0/5 [00:00<?, ?it/s]"
                        ]
                    },
                    "metadata": {},
                    "output_type": "display_data"
                }
            ],
            "source": [
                "from sentence_transformers import SentenceTransformer\n",
                "\n",
                "model = SentenceTransformer(\"all-MiniLM-L6-v2\")\n",
                "\n",
                "embeddings = model.encode(df[\"Back\"].tolist(), show_progress_bar=True)\n"
            ]
        },
        {
            "cell_type": "code",
            "execution_count": 39,
            "id": "f32653e7",
            "metadata": {},
            "outputs": [],
            "source": [
                "import numpy as np\n",
                "\n",
                "df[\"Embedding\"] = list(embeddings)\n"
            ]
        },
        {
            "cell_type": "code",
            "execution_count": 40,
            "id": "c1cb880a",
            "metadata": {},
            "outputs": [],
            "source": [
                "from sklearn.metrics.pairwise import cosine_similarity\n",
                "\n",
                "similarity_matrix = cosine_similarity(embeddings)\n",
                "edges = []\n",
                "\n",
                "threshold = 0.85\n",
                "\n",
                "for i in range(len(df)):\n",
                "    for j in range(i + 1, len(df)):\n",
                "        sim = similarity_matrix[i][j]\n",
                "        if sim >= threshold:\n",
                "            edges.append((df.iloc[i][\"Front\"], df.iloc[j][\"Front\"], sim))"
            ]
        },
        {
            "cell_type": "code",
            "execution_count": 45,
            "id": "1779c47c",
            "metadata": {},
            "outputs": [
                {
                    "name": "stdout",
                    "output_type": "stream",
                    "text": [
                        "de- ↔ dis-/di-/dif-\n",
                        "Similarity: 0.40\n",
                        "Definition A: down, away, reverse, completely  examples: devalue = reduce in valuedefame = take aware someone's reputation\n",
                        "Definition B: apart, not  examples: dissonance = lack of harmonydivert = to turn away from a path\n",
                        "------------------------------------------------------------\n",
                        "de- ↔ pro-\n",
                        "Similarity: 0.39\n",
                        "Definition A: down, away, reverse, completely  examples: devalue = reduce in valuedefame = take aware someone's reputation\n",
                        "Definition B: forward, for  examples: propel = to push forwardproponent = one who argues in favor of something\n",
                        "------------------------------------------------------------\n",
                        "de- ↔ ben- or bene-\n",
                        "Similarity: 0.37\n",
                        "Definition A: down, away, reverse, completely  examples: devalue = reduce in valuedefame = take aware someone's reputation\n",
                        "Definition B: good  examples:  beneficial = helpfulbenevolent = kindbenign = harmlesl\n",
                        "------------------------------------------------------------\n",
                        "de- ↔ dict\n",
                        "Similarity: 0.35\n",
                        "Definition A: down, away, reverse, completely  examples: devalue = reduce in valuedefame = take aware someone's reputation\n",
                        "Definition B: speak  examples: dictate = to speak with authorityprediction =a statement made in advance\n",
                        "------------------------------------------------------------\n",
                        "de- ↔ -ward/-wise\n",
                        "Similarity: 0.35\n",
                        "Definition A: down, away, reverse, completely  examples: devalue = reduce in valuedefame = take aware someone's reputation\n",
                        "Definition B: direction or manner  examples: backward = in reverse directionclockwise = in the direction of a clock's hands\n",
                        "------------------------------------------------------------\n"
                    ]
                }
            ],
            "source": [
                "i = df[df[\"Front\"] == \"de-\"].index[0]\n",
                "similarities = similarity_matrix[i]\n",
                "top_indices = np.argsort(similarities)[::-1][1:6]  # exclude self\n",
                "\n",
                "for j in top_indices:\n",
                "    print(f\"{df.iloc[i]['Front']} ↔ {df.iloc[j]['Front']}\")\n",
                "    print(f\"Similarity: {similarities[j]:.2f}\")\n",
                "    print(f\"Definition A: {df.iloc[i]['Back']}\")\n",
                "    print(f\"Definition B: {df.iloc[j]['Back']}\")\n",
                "    print(\"-\" * 60)"
            ]
        }
    ],
    "metadata": {
        "kernelspec": {
            "display_name": "Python (vocabenv)",
            "language": "python",
            "name": "vocabenv"
        },
        "language_info": {
            "codemirror_mode": {
                "name": "ipython",
                "version": 3
            },
            "file_extension": ".py",
            "mimetype": "text/x-python",
            "name": "python",
            "nbconvert_exporter": "python",
            "pygments_lexer": "ipython3",
            "version": "3.11.7"
        }
    },
    "nbformat": 4,
    "nbformat_minor": 5
}
